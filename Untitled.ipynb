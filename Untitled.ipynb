{
 "cells": [
  {
   "cell_type": "code",
   "execution_count": null,
   "metadata": {},
   "outputs": [],
   "source": [
    "def ACF_PACF(TS, lags):\n",
    "    for column in list(TS.columns):\n",
    "        pd.plotting.autocorrelation_plot(TS[column])\n",
    "        from statsmodels.graphics.tsaplots import plot_pacf\n",
    "        from matplotlib.pylab import rcParams\n",
    "        rcParams['figure.figsize']=14,5\n",
    "        plot_pacf(TS[column], lags=lags)"
   ]
  }
 ],
 "metadata": {
  "kernelspec": {
   "display_name": "Python 3",
   "language": "python",
   "name": "python3"
  },
  "language_info": {
   "codemirror_mode": {
    "name": "ipython",
    "version": 3
   },
   "file_extension": ".py",
   "mimetype": "text/x-python",
   "name": "python",
   "nbconvert_exporter": "python",
   "pygments_lexer": "ipython3",
   "version": "3.7.1"
  }
 },
 "nbformat": 4,
 "nbformat_minor": 2
}
